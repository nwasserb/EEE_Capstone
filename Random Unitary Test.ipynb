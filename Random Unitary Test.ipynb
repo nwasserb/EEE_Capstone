{
 "cells": [
  {
   "cell_type": "code",
   "execution_count": 2,
   "id": "bed53d4a-63ba-48ba-af32-fcac9273d4ec",
   "metadata": {
    "tags": []
   },
   "outputs": [
    {
     "name": "stderr",
     "output_type": "stream",
     "text": [
      "<ipython-input-2-2478f60c574b>:4: DeprecationWarning: ``qiskit.algorithms`` has been migrated to an independent package: https://github.com/qiskit-community/qiskit-algorithms. The ``qiskit.algorithms`` import path is deprecated as of qiskit-terra 0.25.0 and will be removed no earlier than 3 months after the release date. Please run ``pip install qiskit_algorithms`` and use ``import qiskit_algorithms`` instead.\n",
      "  from qiskit.algorithms.gradients import ParamShiftEstimatorGradient, FiniteDiffEstimatorGradient\n"
     ]
    }
   ],
   "source": [
    "from qiskit import transpile\n",
    "from qiskit.quantum_info import random_density_matrix, Operator, Statevector, DensityMatrix, random_unitary, random_statevector, random_clifford, Pauli, SparsePauliOp\n",
    "from qiskit.circuit import Parameter, ParameterVector, QuantumCircuit\n",
    "from qiskit.algorithms.gradients import ParamShiftEstimatorGradient, FiniteDiffEstimatorGradient\n",
    "from qiskit_ibm_runtime import QiskitRuntimeService, Session, Options\n",
    "from qiskit.circuit.library import PauliEvolutionGate\n",
    "from qiskit.synthesis import LieTrotter\n",
    "\n",
    "import numpy as np\n",
    "import pandas as pd\n",
    "import scipy as sp\n",
    "from math import pi\n",
    "import matplotlib as mpl\n",
    "import matplotlib.pyplot as plt\n",
    "import random\n",
    "from itertools import product"
   ]
  },
  {
   "cell_type": "code",
   "execution_count": 3,
   "id": "933c04fb-1dd0-4436-9017-de92af5af2a9",
   "metadata": {
    "tags": []
   },
   "outputs": [],
   "source": [
    "state = Statevector([1, 0])"
   ]
  },
  {
   "cell_type": "code",
   "execution_count": 6,
   "id": "fd10e036-b150-4c88-a137-aff2c52efcdb",
   "metadata": {
    "tags": []
   },
   "outputs": [
    {
     "data": {
      "text/plain": [
       "Operator([[ 0.246715  -0.52176763j,  0.26295203-0.77314066j],\n",
       "          [-0.58604145+0.56872284j,  0.3658404 -0.4463973j ]],\n",
       "         input_dims=(2,), output_dims=(2,))"
      ]
     },
     "execution_count": 6,
     "metadata": {},
     "output_type": "execute_result"
    }
   ],
   "source": [
    "unitary = random_unitary(2)\n",
    "unitary"
   ]
  },
  {
   "cell_type": "code",
   "execution_count": 7,
   "id": "58cfb16d-74ea-446b-84b7-59084cf14d22",
   "metadata": {
    "tags": []
   },
   "outputs": [
    {
     "data": {
      "text/plain": [
       "array([ 1.00000000e+00+2.47393083e-18j, -5.55111512e-17-2.77555756e-17j])"
      ]
     },
     "execution_count": 7,
     "metadata": {},
     "output_type": "execute_result"
    }
   ],
   "source": [
    "state @ unitary.data @ unitary.adjoint().data"
   ]
  }
 ],
 "metadata": {
  "kernelspec": {
   "display_name": "Python 3",
   "language": "python",
   "name": "python3"
  },
  "language_info": {
   "codemirror_mode": {
    "name": "ipython",
    "version": 3
   },
   "file_extension": ".py",
   "mimetype": "text/x-python",
   "name": "python",
   "nbconvert_exporter": "python",
   "pygments_lexer": "ipython3",
   "version": "3.8.10"
  }
 },
 "nbformat": 4,
 "nbformat_minor": 5
}
