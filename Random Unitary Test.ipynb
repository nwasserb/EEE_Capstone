{
 "cells": [
  {
   "cell_type": "code",
   "execution_count": 86,
   "id": "bed53d4a-63ba-48ba-af32-fcac9273d4ec",
   "metadata": {
    "tags": []
   },
   "outputs": [],
   "source": [
    "from qiskit.quantum_info import random_density_matrix, Operator, Statevector, DensityMatrix, random_unitary, random_statevector, random_clifford, Pauli, SparsePauliOp\n",
    "from qiskit.circuit import Parameter, ParameterVector, QuantumCircuit\n",
    "from qiskit.circuit.library import RXGate, RYGate, RZGate\n",
    "from qiskit.visualization import *\n",
    "\n",
    "import numpy as np\n",
    "import pandas as pd\n",
    "import scipy as sp\n",
    "from math import pi, cos, sin, sqrt\n",
    "import matplotlib as mpl\n",
    "import matplotlib.pyplot as plt\n",
    "import random\n",
    "from itertools import product"
   ]
  },
  {
   "cell_type": "code",
   "execution_count": 87,
   "id": "da7d8289",
   "metadata": {},
   "outputs": [],
   "source": [
    "# def hwp(theta):\n",
    "#     return Operator([[-cos(2 * theta), -sin(2 * theta)],\n",
    "#                       [-sin(2 * theta), cos(2 * theta)]])"
   ]
  },
  {
   "cell_type": "code",
   "execution_count": 88,
   "id": "0399c70c",
   "metadata": {},
   "outputs": [],
   "source": [
    "# def qwp(theta):\n",
    "#     return Operator([[1 - (1 + 1j) * (cos(theta)) ** 2, -(1 + 1j) * sin(theta) * cos(theta)],\n",
    "#                      [-(1 + 1j) * sin(theta) * cos(theta), 1 - (1 + 1j) * (sin(theta)) ** 2]])"
   ]
  },
  {
   "cell_type": "code",
   "execution_count": 89,
   "id": "242c7a9d",
   "metadata": {},
   "outputs": [
    {
     "name": "stdout",
     "output_type": "stream",
     "text": [
      "psi_in=Statevector([0.1448382 -0.88964834j, 0.06718984+0.42782385j],\n",
      "            dims=(2,))\n",
      "psi_1=Statevector([0.70710678+0.j, 0.70710678+0.j],\n",
      "            dims=(2,))\n",
      "psi_2=Statevector([1.+0.j, 0.+0.j],\n",
      "            dims=(2,))\n",
      "T=Operator([[0.+0.j, 0.-1.j],\n",
      "          [0.+1.j, 0.+0.j]],\n",
      "         input_dims=(2,), output_dims=(2,))\n"
     ]
    }
   ],
   "source": [
    "psi_in = random_statevector(2, seed=7)\n",
    "psi_1 = Statevector.from_label(\"+\")\n",
    "psi_2 = Statevector.from_label(\"0\")\n",
    "# T = random_unitary(2, seed=10)\n",
    "T = Operator.from_label(\"Y\")\n",
    "\n",
    "print(f\"{psi_in=}\")\n",
    "print(f\"{psi_1=}\")\n",
    "print(f\"{psi_2=}\")\n",
    "print(f\"{T=}\")"
   ]
  },
  {
   "cell_type": "code",
   "execution_count": 90,
   "id": "db91cbdd",
   "metadata": {},
   "outputs": [
    {
     "name": "stdout",
     "output_type": "stream",
     "text": [
      "psi_a=Statevector([0.-0.70710678j, 0.+0.70710678j],\n",
      "            dims=(2,))\n",
      "p_plus=0.0\n",
      "phi=1.5707963267948966\n"
     ]
    }
   ],
   "source": [
    "psi_a = psi_1.evolve(T)\n",
    "p_plus = psi_a.expectation_value(psi_1).real\n",
    "phi = np.arccos(sqrt(p_plus))\n",
    "\n",
    "print(f\"{psi_a=}\")\n",
    "print(f\"{p_plus=}\")\n",
    "print(f\"{phi=}\")"
   ]
  },
  {
   "cell_type": "code",
   "execution_count": 91,
   "id": "f2ccba8c",
   "metadata": {},
   "outputs": [
    {
     "name": "stdout",
     "output_type": "stream",
     "text": [
      "psi_b=Statevector([0.+0.j, 0.+1.j],\n",
      "            dims=(2,))\n",
      "p_0=0.0\n",
      "theta=1.5707963267948966\n"
     ]
    }
   ],
   "source": [
    "psi_b = psi_2.evolve(T)\n",
    "p_0 = psi_b.expectation_value(psi_2).real\n",
    "theta = np.arccos(sqrt(2 * p_0))\n",
    "\n",
    "print(f\"{psi_b=}\")\n",
    "print(f\"{p_0=}\")\n",
    "print(f\"{theta=}\")"
   ]
  },
  {
   "cell_type": "code",
   "execution_count": 92,
   "id": "ccf9cdd6",
   "metadata": {},
   "outputs": [
    {
     "name": "stdout",
     "output_type": "stream",
     "text": [
      "T_guess=array([[ 3.74939946e-33-6.123234e-17j, -1.00000000e+00-6.123234e-17j],\n",
      "       [ 1.00000000e+00-6.123234e-17j,  3.74939946e-33+6.123234e-17j]])\n"
     ]
    }
   ],
   "source": [
    "T_guess = RZGate(2 * phi).to_matrix() @ RXGate(2 * theta).to_matrix() #Why 2 * angle??\n",
    "\n",
    "print(f\"{T_guess=}\")"
   ]
  },
  {
   "cell_type": "code",
   "execution_count": 93,
   "id": "82bef0f7",
   "metadata": {},
   "outputs": [
    {
     "name": "stdout",
     "output_type": "stream",
     "text": [
      "T_inverse=array([[ 3.74939946e-33+6.123234e-17j,  1.00000000e+00+6.123234e-17j],\n",
      "       [-1.00000000e+00+6.123234e-17j,  3.74939946e-33-6.123234e-17j]])\n"
     ]
    }
   ],
   "source": [
    "T_inverse = RXGate(-2 * theta).to_matrix() @ RZGate(-2 * phi).to_matrix()\n",
    "\n",
    "print(f\"{T_inverse=}\")"
   ]
  },
  {
   "cell_type": "code",
   "execution_count": 97,
   "id": "a84a072f",
   "metadata": {},
   "outputs": [
    {
     "data": {
      "text/plain": [
       "Operator([[ 6.123234e-17+1.00000000e+00j, -6.123234e-17-3.74939946e-33j],\n",
       "          [-6.123234e-17+3.74939946e-33j, -6.123234e-17+1.00000000e+00j]],\n",
       "         input_dims=(2,), output_dims=(2,))"
      ]
     },
     "execution_count": 97,
     "metadata": {},
     "output_type": "execute_result"
    }
   ],
   "source": [
    "T @ T_inverse  #Why no identity??"
   ]
  }
 ],
 "metadata": {
  "kernelspec": {
   "display_name": "Python 3",
   "language": "python",
   "name": "python3"
  },
  "language_info": {
   "codemirror_mode": {
    "name": "ipython",
    "version": 3
   },
   "file_extension": ".py",
   "mimetype": "text/x-python",
   "name": "python",
   "nbconvert_exporter": "python",
   "pygments_lexer": "ipython3",
   "version": "3.8.10"
  }
 },
 "nbformat": 4,
 "nbformat_minor": 5
}
