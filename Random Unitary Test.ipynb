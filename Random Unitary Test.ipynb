{
 "cells": [
  {
   "cell_type": "code",
   "execution_count": 47,
   "id": "bed53d4a-63ba-48ba-af32-fcac9273d4ec",
   "metadata": {
    "tags": []
   },
   "outputs": [],
   "source": [
    "from qiskit.quantum_info import random_density_matrix, Operator, Statevector, DensityMatrix, random_unitary, random_statevector, random_clifford, Pauli, SparsePauliOp\n",
    "from qiskit.circuit import Parameter, ParameterVector, QuantumCircuit\n",
    "from qiskit.circuit.library import RXGate, RYGate, RZGate\n",
    "from qiskit.visualization import *\n",
    "\n",
    "import numpy as np\n",
    "import pandas as pd\n",
    "import scipy as sp\n",
    "from math import pi, cos, sin, sqrt\n",
    "import matplotlib as mpl\n",
    "import matplotlib.pyplot as plt\n",
    "import random\n",
    "from itertools import product"
   ]
  },
  {
   "cell_type": "code",
   "execution_count": 48,
   "id": "da7d8289",
   "metadata": {},
   "outputs": [],
   "source": [
    "# def hwp(theta):\n",
    "#     return Operator([[-cos(2 * theta), -sin(2 * theta)],\n",
    "#                       [-sin(2 * theta), cos(2 * theta)]])"
   ]
  },
  {
   "cell_type": "code",
   "execution_count": 49,
   "id": "0399c70c",
   "metadata": {},
   "outputs": [],
   "source": [
    "# def qwp(theta):\n",
    "#     return Operator([[1 - (1 + 1j) * (cos(theta)) ** 2, -(1 + 1j) * sin(theta) * cos(theta)],\n",
    "#                      [-(1 + 1j) * sin(theta) * cos(theta), 1 - (1 + 1j) * (sin(theta)) ** 2]])"
   ]
  },
  {
   "cell_type": "code",
   "execution_count": 50,
   "id": "242c7a9d",
   "metadata": {},
   "outputs": [
    {
     "name": "stdout",
     "output_type": "stream",
     "text": [
      "psi_in=Statevector([0.1448382 -0.88964834j, 0.06718984+0.42782385j],\n",
      "            dims=(2,))\n",
      "psi_1=Statevector([0.70710678+0.j, 0.70710678+0.j],\n",
      "            dims=(2,))\n",
      "psi_2=Statevector([1.+0.j, 0.+0.j],\n",
      "            dims=(2,))\n",
      "T=Operator([[ 0.00230229-0.85093649j,  0.48398855+0.20410015j],\n",
      "          [-0.51306112+0.11256141j, -0.15267847+0.83713051j]],\n",
      "         input_dims=(2,), output_dims=(2,))\n"
     ]
    }
   ],
   "source": [
    "psi_in = random_statevector(2, seed=7)\n",
    "psi_1 = Statevector.from_label(\"+\")\n",
    "psi_2 = Statevector.from_label(\"0\")\n",
    "T = random_unitary(2, seed=7)\n",
    "\n",
    "print(f\"{psi_in=}\")\n",
    "print(f\"{psi_1=}\")\n",
    "print(f\"{psi_2=}\")\n",
    "print(f\"{T=}\")"
   ]
  },
  {
   "cell_type": "code",
   "execution_count": 51,
   "id": "db91cbdd",
   "metadata": {},
   "outputs": [
    {
     "name": "stdout",
     "output_type": "stream",
     "text": [
      "phi=1.3938608268467634\n"
     ]
    }
   ],
   "source": [
    "# phi = np.arccos(sqrt(psi_1.evolve(T).expectation_value(psi_1).real))\n",
    "phi = np.arccos(2 * psi_1.evolve(T).expectation_value(psi_1).real - 1) / 2\n",
    "\n",
    "print(f\"{phi=}\")"
   ]
  },
  {
   "cell_type": "code",
   "execution_count": 58,
   "id": "f2ccba8c",
   "metadata": {},
   "outputs": [
    {
     "name": "stdout",
     "output_type": "stream",
     "text": [
      "theta=nan\n"
     ]
    },
    {
     "name": "stderr",
     "output_type": "stream",
     "text": [
      "<ipython-input-58-4d3d77caa28b>:1: RuntimeWarning: invalid value encountered in arccos\n",
      "  theta = np.arccos(sqrt(2 * psi_2.evolve(T).expectation_value(psi_2).real))\n"
     ]
    }
   ],
   "source": [
    "theta = np.arccos(sqrt(2 * psi_2.evolve(T).expectation_value(psi_2).real))\n",
    "\n",
    "print(f\"{theta=}\")"
   ]
  },
  {
   "cell_type": "code",
   "execution_count": 53,
   "id": "ccf9cdd6",
   "metadata": {},
   "outputs": [
    {
     "name": "stdout",
     "output_type": "stream",
     "text": [
      "T_guess=array([[nan+nanj, nan+nanj],\n",
      "       [nan+nanj, nan+nanj]])\n"
     ]
    }
   ],
   "source": [
    "T_guess = RZGate(phi).to_matrix() @ RXGate(theta).to_matrix()\n",
    "\n",
    "print(f\"{T_guess=}\")"
   ]
  },
  {
   "cell_type": "code",
   "execution_count": 54,
   "id": "82bef0f7",
   "metadata": {},
   "outputs": [
    {
     "name": "stdout",
     "output_type": "stream",
     "text": [
      "T_inverse=array([[nan+nanj, nan+nanj],\n",
      "       [nan+nanj, nan+nanj]])\n"
     ]
    }
   ],
   "source": [
    "T_inverse = RXGate(-theta).to_matrix() @ RZGate(-phi).to_matrix()\n",
    "\n",
    "print(f\"{T_inverse=}\")"
   ]
  },
  {
   "cell_type": "code",
   "execution_count": 55,
   "id": "a84a072f",
   "metadata": {},
   "outputs": [
    {
     "data": {
      "text/plain": [
       "Operator([[nan+nanj, nan+nanj],\n",
       "          [nan+nanj, nan+nanj]],\n",
       "         input_dims=(2,), output_dims=(2,))"
      ]
     },
     "execution_count": 55,
     "metadata": {},
     "output_type": "execute_result"
    }
   ],
   "source": [
    "T @ T_inverse"
   ]
  }
 ],
 "metadata": {
  "kernelspec": {
   "display_name": "Python 3",
   "language": "python",
   "name": "python3"
  },
  "language_info": {
   "codemirror_mode": {
    "name": "ipython",
    "version": 3
   },
   "file_extension": ".py",
   "mimetype": "text/x-python",
   "name": "python",
   "nbconvert_exporter": "python",
   "pygments_lexer": "ipython3",
   "version": "3.8.10"
  }
 },
 "nbformat": 4,
 "nbformat_minor": 5
}
