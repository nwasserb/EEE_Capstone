{
 "cells": [
  {
   "cell_type": "code",
   "execution_count": 2,
   "id": "bed53d4a-63ba-48ba-af32-fcac9273d4ec",
   "metadata": {
    "tags": []
   },
   "outputs": [],
   "source": [
    "from qiskit.quantum_info import random_density_matrix, Operator, Statevector, DensityMatrix, random_unitary, random_statevector, random_clifford, Pauli, SparsePauliOp\n",
    "from qiskit.circuit import Parameter, ParameterVector, QuantumCircuit\n",
    "from qiskit.circuit.library import RXGate, RYGate, RZGate\n",
    "from qiskit.visualization import *\n",
    "\n",
    "import numpy as np\n",
    "import pandas as pd\n",
    "import scipy as sp\n",
    "from math import pi, cos, sin, sqrt\n",
    "import matplotlib as mpl\n",
    "import matplotlib.pyplot as plt\n",
    "import random\n",
    "from itertools import product"
   ]
  },
  {
   "cell_type": "code",
   "execution_count": 3,
   "id": "da7d8289",
   "metadata": {},
   "outputs": [],
   "source": [
    "def hwp(theta):\n",
    "     return Operator([[-cos(2 * theta), -sin(2 * theta)],\n",
    "                       [-sin(2 * theta), cos(2 * theta)]])"
   ]
  },
  {
   "cell_type": "code",
   "execution_count": 4,
   "id": "0399c70c",
   "metadata": {},
   "outputs": [],
   "source": [
    "def qwp(theta):\n",
    "     return Operator([[1 - (1 + 1j) * (cos(theta)) ** 2, -(1 + 1j) * sin(theta) * cos(theta)],\n",
    "                      [-(1 + 1j) * sin(theta) * cos(theta), 1 - (1 + 1j) * (sin(theta)) ** 2]])"
   ]
  },
  {
   "cell_type": "code",
   "execution_count": 5,
   "id": "242c7a9d",
   "metadata": {},
   "outputs": [
    {
     "name": "stdout",
     "output_type": "stream",
     "text": [
      "Optimization Step: 0\n",
      "Theta Values: [-0.23403688  0.04906242  0.13591204]\n",
      "Maximum Probability: 0.8520809265416331\n",
      "\n",
      "Optimization Step: 1\n",
      "Theta Values: [-0.63981114 -0.23603458  1.11187952]\n",
      "Maximum Probability: 0.9961891535879126\n",
      "\n",
      "Optimization Step: 2\n",
      "Theta Values: [-0.63730475 -0.22116821  1.07964031]\n",
      "Maximum Probability: 0.9999208717652813\n",
      "\n",
      "Optimization Step: 3\n",
      "Theta Values: [-0.63475999 -0.22160623  1.07797157]\n",
      "Maximum Probability: 0.9999866306670674\n",
      "\n",
      "Optimization Step: 4\n",
      "Theta Values: [-0.63461994 -0.22057832  1.07577551]\n",
      "Maximum Probability: 0.9999998880853012\n",
      "\n",
      "Optimization Step: 5\n",
      "Theta Values: [-0.63462222 -0.22066604  1.07595298]\n",
      "Maximum Probability: 0.9999999999976767\n",
      "\n",
      "Optimization terminated successfully.\n",
      "         Current function value: -1.000000\n",
      "         Iterations: 6\n",
      "         Function evaluations: 40\n",
      "         Gradient evaluations: 10\n",
      "\n",
      "Optimal Theta Values: [-0.63462222 -0.22066604  1.07595298]\n",
      "Maximum Probability: 0.9999999999976767\n",
      "\n",
      "T @ H: Operator([-0.68411829-0.15413097j, -0.48475359+0.52272341j],\n",
      "         input_dims=(), output_dims=(2,))\n",
      "T @ D: Operator([-0.16792594-0.69283959j,  0.67231568+0.19941368j],\n",
      "         input_dims=(), output_dims=(2,))\n",
      "U @ T @ H: Operator([9.50828362e-01-3.09718301e-01j, 1.02307554e-06+3.39006746e-07j],\n",
      "         input_dims=(), output_dims=(2,))\n",
      "U @ T @ D: Operator([ 2.03512408e-07-1.05839115e-06j, -7.34436990e-01+6.78676880e-01j],\n",
      "         input_dims=(), output_dims=(2,))\n"
     ]
    }
   ],
   "source": [
    "import numpy as np\n",
    "from scipy.optimize import minimize\n",
    "\n",
    "# Define a global variable for U\n",
    "T_gate = random_unitary(2, seed=10)\n",
    "U = None  # Initialize U\n",
    "\n",
    "# Define the objective function to maximize\n",
    "def objective_function(theta_values):\n",
    "    global U  # Use the global U variable\n",
    "    theta_hwp1, theta_qwp, theta_hwp2 = theta_values\n",
    "\n",
    "    # Define the H and D states as needed\n",
    "    H_state = np.array([1, 0])\n",
    "    D_state = np.array([0, 1])\n",
    "\n",
    "    # Calculate the U gate\n",
    "    U = hwp(theta_hwp1) @ qwp(theta_qwp) @ hwp(theta_hwp2)\n",
    "\n",
    "    # Calculate the probabilities\n",
    "    T_H = T_gate @ H_state\n",
    "    T_D = T_gate @ D_state\n",
    "    U_T_H = U @ T_H\n",
    "    U_T_D = U @ T_D\n",
    "\n",
    "    prob_H_H = np.abs(np.vdot(H_state, U_T_H)) ** 2\n",
    "    prob_D_D = np.abs(np.vdot(D_state, U_T_D)) ** 2\n",
    "\n",
    "    # Calculate the product of probabilities to maximize\n",
    "    return -(prob_H_H * prob_D_D)\n",
    "\n",
    "# Define a custom callback function to print intermediate results\n",
    "def callback(xk):\n",
    "    print(f\"Optimization Step: {len(callback.steps)}\")\n",
    "    print(f\"Theta Values: {xk}\")\n",
    "    theta_hwp1, theta_qwp, theta_hwp2 = xk\n",
    "    max_prob = -objective_function(xk)\n",
    "    print(f\"Maximum Probability: {max_prob}\\n\")\n",
    "    callback.steps.append(max_prob)\n",
    "\n",
    "callback.steps = []\n",
    "\n",
    "# Initial guess for theta values\n",
    "initial_theta_values = [0.0, 0.0, 0.0]\n",
    "\n",
    "# Perform the optimization with the custom callback\n",
    "result = minimize(objective_function, initial_theta_values, method='BFGS', options={'disp': True, 'maxiter': 10}, callback=callback)\n",
    "\n",
    "# Extract the optimal theta values and the maximum probability\n",
    "optimal_theta_values = result.x\n",
    "max_probability = -result.fun\n",
    "\n",
    "# Print the final optimal theta values and maximum probability\n",
    "print(\"\\nOptimal Theta Values:\", optimal_theta_values)\n",
    "print(\"Maximum Probability:\", max_probability)\n",
    "\n",
    "# Print the final states\n",
    "print(\"\\nT @ H:\", T_gate @ np.array([1, 0]))\n",
    "print(\"T @ D:\", T_gate @ np.array([0, 1]))\n",
    "print(\"U @ T @ H:\", U @ (T_gate @ np.array([1, 0])))\n",
    "print(\"U @ T @ D:\", U @ (T_gate @ np.array([0, 1])))\n"
   ]
  },
  {
   "cell_type": "code",
   "execution_count": 30,
   "id": "db91cbdd",
   "metadata": {},
   "outputs": [
    {
     "name": "stdout",
     "output_type": "stream",
     "text": [
      "Optimization Step: 0\n",
      "Theta Values: [-0.23403688  0.04906242  0.13591204]\n",
      "Maximum Probability: 0.8520809265416331\n",
      "\n",
      "Optimization Step: 1\n",
      "Theta Values: [-0.63981114 -0.23603458  1.11187952]\n",
      "Maximum Probability: 0.9961891535879126\n",
      "\n",
      "Optimization Step: 2\n",
      "Theta Values: [-0.63730475 -0.22116821  1.07964031]\n",
      "Maximum Probability: 0.9999208717652813\n",
      "\n",
      "Optimization Step: 3\n",
      "Theta Values: [-0.63475999 -0.22160623  1.07797157]\n",
      "Maximum Probability: 0.9999866306670674\n",
      "\n",
      "Optimization Step: 4\n",
      "Theta Values: [-0.63461994 -0.22057832  1.07577551]\n",
      "Maximum Probability: 0.9999998880853012\n",
      "\n",
      "Optimization Step: 5\n",
      "Theta Values: [-0.63462222 -0.22066604  1.07595298]\n",
      "Maximum Probability: 0.9999999999976767\n",
      "\n",
      "Optimization terminated successfully.\n",
      "         Current function value: -1.000000\n",
      "         Iterations: 6\n",
      "         Function evaluations: 40\n",
      "         Gradient evaluations: 10\n",
      "\n",
      "Optimal Theta Values: [-0.63462222 -0.22066604  1.07595298]\n",
      "Maximum Probability: 0.9999999999976767\n",
      "\n",
      "T @ H: Operator([-0.68411829-0.15413097j, -0.48475359+0.52272341j],\n",
      "         input_dims=(), output_dims=(2,))\n",
      "T @ D: Operator([-0.16792594-0.69283959j,  0.67231568+0.19941368j],\n",
      "         input_dims=(), output_dims=(2,))\n",
      "U @ T @ H: Operator([9.50828362e-01-3.09718301e-01j, 1.02307554e-06+3.39006746e-07j],\n",
      "         input_dims=(), output_dims=(2,))\n",
      "U @ T @ D: Operator([ 2.03512408e-07-1.05839115e-06j, -7.34436990e-01+6.78676880e-01j],\n",
      "         input_dims=(), output_dims=(2,))\n"
     ]
    }
   ],
   "source": []
  },
  {
   "cell_type": "code",
   "execution_count": null,
   "id": "f2ccba8c",
   "metadata": {},
   "outputs": [
    {
     "ename": "",
     "evalue": "",
     "output_type": "error",
     "traceback": [
      "\u001b[1;31mRunning cells with 'c:\\Users\\Noah\\Documents\\CodeBase\\EEE419\\.conda\\python.exe' requires the ipykernel package.\n",
      "\u001b[1;31mRun the following command to install 'ipykernel' into the Python environment. \n",
      "\u001b[1;31mCommand: 'conda install -p c:\\Users\\Noah\\Documents\\CodeBase\\EEE419\\.conda ipykernel --update-deps --force-reinstall'"
     ]
    }
   ],
   "source": []
  },
  {
   "cell_type": "code",
   "execution_count": null,
   "id": "ccf9cdd6",
   "metadata": {},
   "outputs": [
    {
     "ename": "",
     "evalue": "",
     "output_type": "error",
     "traceback": [
      "\u001b[1;31mRunning cells with 'c:\\Users\\Noah\\Documents\\CodeBase\\EEE419\\.conda\\python.exe' requires the ipykernel package.\n",
      "\u001b[1;31mRun the following command to install 'ipykernel' into the Python environment. \n",
      "\u001b[1;31mCommand: 'conda install -p c:\\Users\\Noah\\Documents\\CodeBase\\EEE419\\.conda ipykernel --update-deps --force-reinstall'"
     ]
    }
   ],
   "source": []
  },
  {
   "cell_type": "code",
   "execution_count": null,
   "id": "82bef0f7",
   "metadata": {},
   "outputs": [
    {
     "ename": "",
     "evalue": "",
     "output_type": "error",
     "traceback": [
      "\u001b[1;31mRunning cells with 'c:\\Users\\Noah\\Documents\\CodeBase\\EEE419\\.conda\\python.exe' requires the ipykernel package.\n",
      "\u001b[1;31mRun the following command to install 'ipykernel' into the Python environment. \n",
      "\u001b[1;31mCommand: 'conda install -p c:\\Users\\Noah\\Documents\\CodeBase\\EEE419\\.conda ipykernel --update-deps --force-reinstall'"
     ]
    }
   ],
   "source": []
  },
  {
   "cell_type": "code",
   "execution_count": null,
   "id": "a84a072f",
   "metadata": {},
   "outputs": [
    {
     "ename": "",
     "evalue": "",
     "output_type": "error",
     "traceback": [
      "\u001b[1;31mRunning cells with 'c:\\Users\\Noah\\Documents\\CodeBase\\EEE419\\.conda\\python.exe' requires the ipykernel package.\n",
      "\u001b[1;31mRun the following command to install 'ipykernel' into the Python environment. \n",
      "\u001b[1;31mCommand: 'conda install -p c:\\Users\\Noah\\Documents\\CodeBase\\EEE419\\.conda ipykernel --update-deps --force-reinstall'"
     ]
    }
   ],
   "source": []
  }
 ],
 "metadata": {
  "kernelspec": {
   "display_name": "Python 3",
   "language": "python",
   "name": "python3"
  },
  "language_info": {
   "codemirror_mode": {
    "name": "ipython",
    "version": 3
   },
   "file_extension": ".py",
   "mimetype": "text/x-python",
   "name": "python",
   "nbconvert_exporter": "python",
   "pygments_lexer": "ipython3",
   "version": "3.9.12"
  }
 },
 "nbformat": 4,
 "nbformat_minor": 5
}
